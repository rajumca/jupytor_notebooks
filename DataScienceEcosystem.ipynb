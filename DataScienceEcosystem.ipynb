{
 "cells": [
  {
   "cell_type": "markdown",
   "id": "b94f49fb-7583-42aa-a526-b3439080b0cc",
   "metadata": {},
   "source": [
    "# Data Science Tools and Ecosystem"
   ]
  },
  {
   "cell_type": "markdown",
   "id": "69eb5431-f63c-41db-92ca-c73f0931f7de",
   "metadata": {},
   "source": [
    "In this notebook, Data Science Tools and Ecosystem are summarized."
   ]
  },
  {
   "cell_type": "markdown",
   "id": "8444779f-17f4-48b5-a142-075bb806ed01",
   "metadata": {},
   "source": [
    "Some of the popular languages that Data Scientists use are:\n",
    "1. Python\n",
    "2. R\n",
    "3. SQL"
   ]
  },
  {
   "cell_type": "markdown",
   "id": "f2911daf-938f-488b-b77b-7d94e2554663",
   "metadata": {},
   "source": [
    "Some of the commonly used libraries used by Data Scientists include:\n",
    "1. NumPy\n",
    "2. Pandas\n",
    "3. Scikit-learn"
   ]
  },
  {
   "cell_type": "markdown",
   "id": "5250fbac-ae3e-4306-837c-be785ddc0196",
   "metadata": {},
   "source": [
    "| Data Science Tools |\n",
    "| ------------------ |\n",
    "| Jupyter Notebook   |\n",
    "| RStudio            |\n",
    "| VS Code            |"
   ]
  },
  {
   "cell_type": "markdown",
   "id": "3486a312-3135-4182-bea2-a2b65245e216",
   "metadata": {},
   "source": [
    "### Below are a few examples of evaluating arithmetic expressions in Python"
   ]
  },
  {
   "cell_type": "code",
   "execution_count": 11,
   "id": "286a634f-4b60-4040-bd12-53b7e281c0ae",
   "metadata": {},
   "outputs": [
    {
     "data": {
      "text/plain": [
       "17"
      ]
     },
     "execution_count": 11,
     "metadata": {},
     "output_type": "execute_result"
    }
   ],
   "source": [
    "# This a simple arithmetic expression to mutiply then add integers \n",
    "(3*4)+5"
   ]
  },
  {
   "cell_type": "code",
   "execution_count": 12,
   "id": "336d23c0-712d-48f2-b7b3-1276dcd6d986",
   "metadata": {},
   "outputs": [
    {
     "data": {
      "text/plain": [
       "3.3333333333333335"
      ]
     },
     "execution_count": 12,
     "metadata": {},
     "output_type": "execute_result"
    }
   ],
   "source": [
    "200/60\n",
    "# This will convert 200 minutes to hours by diving by 60"
   ]
  },
  {
   "cell_type": "markdown",
   "id": "bee4d60c-b7a2-42b7-ad9e-4b9cfc4ed9bc",
   "metadata": {},
   "source": [
    "<b>Objectives:</b>\n",
    "- Learn about popular languages in Data Science\n",
    "- Learn about Data Science tools\n",
    "- Learn about Data Science Libraries\n",
    "- Familiarize with RSTudio\n",
    "- Familiarize with Jupytor notebook\n",
    "  \n"
   ]
  },
  {
   "cell_type": "markdown",
   "id": "ef4fc77a-50d7-41d6-9a27-864d8b4d26d3",
   "metadata": {},
   "source": [
    "## Author\n",
    "Raju Boddupalli"
   ]
  },
  {
   "cell_type": "code",
   "execution_count": null,
   "id": "875552ea-9998-42fe-a4f2-0d7ca0d38063",
   "metadata": {},
   "outputs": [],
   "source": []
  }
 ],
 "metadata": {
  "kernelspec": {
   "display_name": "Python 3 (ipykernel)",
   "language": "python",
   "name": "python3"
  },
  "language_info": {
   "codemirror_mode": {
    "name": "ipython",
    "version": 3
   },
   "file_extension": ".py",
   "mimetype": "text/x-python",
   "name": "python",
   "nbconvert_exporter": "python",
   "pygments_lexer": "ipython3",
   "version": "3.12.3"
  }
 },
 "nbformat": 4,
 "nbformat_minor": 5
}
